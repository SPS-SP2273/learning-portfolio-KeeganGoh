{
 "cells": [
  {
   "attachments": {},
   "cell_type": "markdown",
   "id": "123456",
   "metadata": {},
   "source": [
    "<div style=\"text-align:left;font-size:2em\"><span style=\"font-weight:bolder;font-size:1.25em\">SP2273 | Learning Portfolio</span><br><br><span style=\"font-weight:bold;color:darkred\">Using Jupyter (Need), Exercises</span></div>"
   ]
  },
  {
   "attachments": {},
   "cell_type": "markdown",
   "id": "123456",
   "metadata": {},
   "source": [
    "## 1 Quadratic Equations"
   ]
  },
  {
   "attachments": {},
   "cell_type": "markdown",
   "id": "123456",
   "metadata": {},
   "source": [
    "### Introduction"
   ]
  },
  {
   "cell_type": "markdown",
   "id": "48c8409f",
   "metadata": {},
   "source": []
  },
  {
   "cell_type": "markdown",
   "id": "ba4626e9",
   "metadata": {},
   "source": [
    "![hahaha](https://upload.wikimedia.org/wikipedia/commons/thumb/f/f8/Polynomialdeg2.svg/480px-Polynomialdeg2.svg.png)\n",
    "\n",
    "(Image from the [Wikipedia page on Quadratic equations](https://en.wikipedia.org/wiki/Quadratic_equation))\n",
    "\n",
    "The general form of a quadratic equation is:\n",
    "\n",
    "$$\n",
    "ax^{2}+bx+c=0\n",
    "$$"
   ]
  },
  {
   "attachments": {},
   "cell_type": "markdown",
   "id": "123456",
   "metadata": {},
   "source": [
    "### Solutions"
   ]
  },
  {
   "cell_type": "markdown",
   "id": "4854d7d3",
   "metadata": {},
   "source": [
    "Provided $a \\ne 0$, we can use an elementary algebraic method called [completing the square](https://en.wikipedia.org/wiki/Completing_the_square) to show that a quadratic equation has the following solution:\n",
    "$$\n",
    "x = \\dfrac{-b \\pm \\sqrt{b^2-4ac}}{2a}\n",
    "$$"
   ]
  },
  {
   "attachments": {},
   "cell_type": "markdown",
   "id": "123456",
   "metadata": {},
   "source": [
    "### Discriminant"
   ]
  },
  {
   "cell_type": "markdown",
   "id": "1066aa6b",
   "metadata": {},
   "source": [
    "The quantity $\\Delta = b^2 - 4ac$ is called the **discriminant** of the equation and decides the nature of its solutions. The table below shows the various possibilities."
   ]
  },
  {
   "cell_type": "markdown",
   "id": "da1aedfc",
   "metadata": {},
   "source": [
    "| Discriminant | Roots                                |\n",
    "|--------------|------------------------------------|\n",
    "|  $\\Delta = b^2 - 4ac = 0$             |A single solution of $-b/(2a)$       |  \n",
    "|      $\\Delta = b^2 - 4ac > 0$    | Two distinct solutions               |  \n",
    "|  $\\Delta = b^2 - 4ac < 0$ | No real solutions; both are complex. | "
   ]
  },
  {
   "cell_type": "markdown",
   "id": "4ccf277f",
   "metadata": {},
   "source": [
    "$\\mu = \\frac{1}{n} \\sum\\limits_{i=1}^{n} x_{i}$  "
   ]
  },
  {
   "cell_type": "markdown",
   "id": "095db0b6",
   "metadata": {},
   "source": [
    "$\\sigma = \\sqrt{\\frac{1}{n} \\sum\\limits_{i=1}^{n} (x_{i}-\\mu)^2}$"
   ]
  },
  {
   "cell_type": "markdown",
   "id": "847e2951",
   "metadata": {},
   "source": [
    "$r = \\frac{\\sum_{i=1}^{n}(x_{i}-\\mu_{X})(y_{i}-\\mu_{Y})}{\\sqrt{\\sum_{i=1}^{n}(x_{i}-\\mu_{X})^2\\sum_{i=1}^{n}(y_{i}-\\mu_{Y})^2}}$"
   ]
  },
  {
   "cell_type": "markdown",
   "id": "39ab34d0",
   "metadata": {},
   "source": []
  }
 ],
 "metadata": {
  "kernelspec": {
   "display_name": "base",
   "language": "python",
   "name": "python3"
  },
  "language_info": {
   "codemirror_mode": {
    "name": "ipython",
    "version": 3
   },
   "file_extension": ".py",
   "mimetype": "text/x-python",
   "name": "python",
   "nbconvert_exporter": "python",
   "pygments_lexer": "ipython3",
   "version": "3.13.5"
  },
  "toc": {
   "base_numbering": 1,
   "nav_menu": {},
   "number_sections": true,
   "sideBar": true,
   "skip_h1_title": false,
   "title_cell": "Table of Contents",
   "title_sidebar": "Contents",
   "toc_cell": false,
   "toc_position": {},
   "toc_section_display": true,
   "toc_window_display": false
  }
 },
 "nbformat": 4,
 "nbformat_minor": 5
}
