{
 "cells": [
  {
   "attachments": {},
   "cell_type": "markdown",
   "id": "123456",
   "metadata": {},
   "source": [
    "<div style=\"text-align:left;font-size:2em\"><span style=\"font-weight:bolder;font-size:1.25em\">SP2273 | Learning Portfolio</span><br><br><span style=\"font-weight:bold;color:darkred\">Functions (Nice)</span></div>"
   ]
  },
  {
   "attachments": {},
   "cell_type": "markdown",
   "id": "123456",
   "metadata": {},
   "source": [
    "# 1 Modularise and reuse"
   ]
  },
  {
   "attachments": {},
   "cell_type": "markdown",
   "id": "123456",
   "metadata": {},
   "source": [
    "# 2 The many ways to pass arguments"
   ]
  },
  {
   "attachments": {},
   "cell_type": "markdown",
   "id": "123456",
   "metadata": {},
   "source": [
    "## 2.1 *args & **kwarg"
   ]
  },
  {
   "attachments": {},
   "cell_type": "markdown",
   "id": "123456",
   "metadata": {},
   "source": [
    "### *args"
   ]
  },
  {
   "cell_type": "code",
   "execution_count": 3,
   "id": "123456",
   "metadata": {},
   "outputs": [
    {
     "data": {
      "text/plain": [
       "2"
      ]
     },
     "execution_count": 3,
     "metadata": {},
     "output_type": "execute_result"
    }
   ],
   "source": [
    "def multiply(x, y):\n",
    "    return x * y\n",
    "\n",
    "numbers = [1, 2]\n",
    "multiply(*numbers) #the use of the asterisk before numbers is used to ensure that wont just assign x=numbers\n"
   ]
  },
  {
   "cell_type": "code",
   "execution_count": 4,
   "id": "b51a2272",
   "metadata": {},
   "outputs": [
    {
     "data": {
      "text/plain": [
       "120"
      ]
     },
     "execution_count": 4,
     "metadata": {},
     "output_type": "execute_result"
    }
   ],
   "source": [
    "def multiply(*args):\n",
    "    result = 1\n",
    "    for number in args:\n",
    "        result *= number\n",
    "\n",
    "    return result\n",
    "\n",
    "numbers = [1, 2, 3]\n",
    "multiply(*numbers)\n",
    "multiply(1, 2, 3, 4, 5)"
   ]
  },
  {
   "attachments": {},
   "cell_type": "markdown",
   "id": "123456",
   "metadata": {},
   "source": [
    "### **kwargs"
   ]
  },
  {
   "cell_type": "code",
   "execution_count": 8,
   "id": "123456",
   "metadata": {},
   "outputs": [
    {
     "data": {
      "text/plain": [
       "6"
      ]
     },
     "execution_count": 8,
     "metadata": {},
     "output_type": "execute_result"
    }
   ],
   "source": [
    "\n",
    "def multiply(x, y, z):\n",
    "    return x * y * z\n",
    "\n",
    "# Let's use the function\n",
    "numbers = {'x': 1, 'y': 2, 'z': 3} #passing keywords using a dictionary\n",
    "multiply(**numbers) #the ** is important!!\n"
   ]
  },
  {
   "cell_type": "code",
   "execution_count": null,
   "id": "270073b0",
   "metadata": {},
   "outputs": [
    {
     "data": {
      "text/plain": [
       "6"
      ]
     },
     "execution_count": 6,
     "metadata": {},
     "output_type": "execute_result"
    }
   ],
   "source": [
    "def multiply(x, y, z):\n",
    "    return x * y * z\n",
    "\n",
    "# Let's use the function\n",
    "numbers = {'y': 2, 'z': 3} #passing keywords using a mix of a dictionary and position\n",
    "multiply(1, **numbers)"
   ]
  },
  {
   "cell_type": "code",
   "execution_count": 7,
   "id": "1432de5a",
   "metadata": {},
   "outputs": [
    {
     "data": {
      "text/plain": [
       "14"
      ]
     },
     "execution_count": 7,
     "metadata": {},
     "output_type": "execute_result"
    }
   ],
   "source": [
    "def add_powers(numbers, power):\n",
    "    result = 0\n",
    "    for number in numbers:\n",
    "        result += number**power\n",
    "\n",
    "    return result\n",
    "\n",
    "# Let's use the function\n",
    "kwargs = {'numbers': [1, 2, 3], 'power': 2}\n",
    "add_powers(**kwargs)"
   ]
  },
  {
   "cell_type": "code",
   "execution_count": 9,
   "id": "1843e7a4",
   "metadata": {},
   "outputs": [
    {
     "data": {
      "text/plain": [
       "14"
      ]
     },
     "execution_count": 9,
     "metadata": {},
     "output_type": "execute_result"
    }
   ],
   "source": [
    "def add_powers(**kwargs):\n",
    "    numbers = kwargs['numbers']\n",
    "    power = kwargs['power']\n",
    "\n",
    "    result = 0\n",
    "    for number in numbers:\n",
    "        result += number**power\n",
    "\n",
    "    return result\n",
    "\n",
    "\n",
    "# Let's use the function\n",
    "add_powers(numbers=[1, 2, 3], power=2)\n",
    "kwargs = {'numbers': [1, 2, 3], 'power': 2}\n",
    "add_powers(**kwargs)"
   ]
  },
  {
   "attachments": {},
   "cell_type": "markdown",
   "id": "123456",
   "metadata": {},
   "source": [
    "# 3 Gotchas with passing variables to functions"
   ]
  },
  {
   "attachments": {},
   "cell_type": "markdown",
   "id": "123456",
   "metadata": {},
   "source": [
    "## 3.1 The Problem"
   ]
  },
  {
   "cell_type": "code",
   "execution_count": 11,
   "id": "accebc08",
   "metadata": {},
   "outputs": [],
   "source": [
    "import numpy as np"
   ]
  },
  {
   "cell_type": "code",
   "execution_count": 12,
   "id": "fb0085c7",
   "metadata": {},
   "outputs": [
    {
     "name": "stdout",
     "output_type": "stream",
     "text": [
      "BEFORE|\tNumber: 10(id: 140708843140296), Array: [10](id: 2198395820560), List: [10](id: 2198396490432)\n",
      "Doing something!\n",
      "INSIDE|\tNumber: 20(id: 140708843140616), Array: [20](id: 2198395820560), List: [10, 10](id: 2198396490432)\n",
      "AFTER|\tNumber: 10(id: 140708843140296), Array: [20](id: 2198395820560), List: [10, 10](id: 2198396490432)\n"
     ]
    }
   ],
   "source": [
    "def do_something(inside_number, inside_array, inside_list):\n",
    "    print('Doing something!')\n",
    "    inside_number *= 2\n",
    "    inside_array *= 2\n",
    "    inside_list *= 2\n",
    "\n",
    "    print(f\"INSIDE|\\tNumber: {inside_number}(id: {id(inside_number)}), Array: {inside_array}(id: {id(inside_array)}), List: {inside_list}(id: {id(inside_list)})\")\n",
    "\n",
    "outside_number = 10\n",
    "outside_array = np.array([10])\n",
    "outside_list = [10]\n",
    "\n",
    "print(f\"BEFORE|\\tNumber: {outside_number}(id: {id(outside_number)}), Array: {outside_array}(id: {id(outside_array)}), List: {outside_list}(id: {id(outside_list)})\")\n",
    "do_something(outside_number, outside_array, outside_list)\n",
    "print(f\"AFTER|\\tNumber: {outside_number}(id: {id(outside_number)}), Array: {outside_array}(id: {id(outside_array)}), List: {outside_list}(id: {id(outside_list)})\")"
   ]
  },
  {
   "attachments": {},
   "cell_type": "markdown",
   "id": "123456",
   "metadata": {},
   "source": [
    "## 3.2 An Explanation"
   ]
  },
  {
   "attachments": {},
   "cell_type": "markdown",
   "id": "123456",
   "metadata": {},
   "source": [
    "# 4 There is more to exceptions"
   ]
  },
  {
   "attachments": {},
   "cell_type": "markdown",
   "id": "123456",
   "metadata": {},
   "source": [
    "## 4.1 A list of exceptions"
   ]
  },
  {
   "attachments": {},
   "cell_type": "markdown",
   "id": "123456",
   "metadata": {},
   "source": [
    "## 4.2 Handling specific exceptions"
   ]
  },
  {
   "cell_type": "code",
   "execution_count": null,
   "id": "ffa79562",
   "metadata": {},
   "outputs": [
    {
     "name": "stdout",
     "output_type": "stream",
     "text": [
      "Oh oh! I cannot square hehehe!\n"
     ]
    }
   ],
   "source": [
    "try:\n",
    "    number=input(\"Give me a number and I will calculate its square.\")\n",
    "    square=int(number)**2\n",
    "    print(f'The square of {number} is {square}!')\n",
    "except ValueError: #being more specific about the type of error experienced.\n",
    "    print(f\"Oh oh! I cannot square {number}!\")"
   ]
  },
  {
   "attachments": {},
   "cell_type": "markdown",
   "id": "123456",
   "metadata": {},
   "source": [
    "## 4.3 try also has an else and finally"
   ]
  },
  {
   "cell_type": "code",
   "execution_count": 14,
   "id": "ee771d9d",
   "metadata": {},
   "outputs": [
    {
     "name": "stdout",
     "output_type": "stream",
     "text": [
      "Oh oh! I cannot square no!\n",
      "Okay, looks like everything is done!\n"
     ]
    }
   ],
   "source": [
    "try:\n",
    "    number=input(\"Give me a number and I will calculate its square.\")\n",
    "    square=int(number)**2\n",
    "    print(f'The square of {number} is {square}!')\n",
    "except ValueError:\n",
    "    print(f\"Oh oh! I cannot square {number}!\")\n",
    "else:\n",
    "    print('Yeah! Things ran without a problem!')\n",
    "finally:\n",
    "    print('Okay, looks like everything is done!')"
   ]
  },
  {
   "attachments": {},
   "cell_type": "markdown",
   "id": "123456",
   "metadata": {},
   "source": [
    "## Footnotes"
   ]
  }
 ],
 "metadata": {
  "kernelspec": {
   "display_name": "base",
   "language": "python",
   "name": "python3"
  },
  "language_info": {
   "codemirror_mode": {
    "name": "ipython",
    "version": 3
   },
   "file_extension": ".py",
   "mimetype": "text/x-python",
   "name": "python",
   "nbconvert_exporter": "python",
   "pygments_lexer": "ipython3",
   "version": "3.13.5"
  },
  "toc": {
   "base_numbering": 1,
   "nav_menu": {},
   "number_sections": true,
   "sideBar": true,
   "skip_h1_title": false,
   "title_cell": "Table of Contents",
   "title_sidebar": "Contents",
   "toc_cell": false,
   "toc_position": {},
   "toc_section_display": true,
   "toc_window_display": false
  }
 },
 "nbformat": 4,
 "nbformat_minor": 5
}
