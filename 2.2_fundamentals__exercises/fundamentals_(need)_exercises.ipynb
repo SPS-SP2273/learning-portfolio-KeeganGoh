{
 "cells": [
  {
   "attachments": {},
   "cell_type": "markdown",
   "id": "123456",
   "metadata": {},
   "source": [
    "<div style=\"text-align:left;font-size:2em\"><span style=\"font-weight:bolder;font-size:1.25em\">SP2273 | Learning Portfolio</span><br><br><span style=\"font-weight:bold;color:darkred\">Fundamentals (Need) Exercises</span></div>"
   ]
  },
  {
   "cell_type": "code",
   "execution_count": 2,
   "id": "65eb7d40",
   "metadata": {},
   "outputs": [],
   "source": [
    "import math\n",
    "import numpy as np"
   ]
  },
  {
   "cell_type": "markdown",
   "id": "62a24a15",
   "metadata": {},
   "source": [
    "Functions\n",
    "\n",
    "Arguments\n",
    "\n",
    "Creating Lists with [],and [[,]]\n",
    "\n",
    "Separating words with \"xyz\".split\n",
    "\n",
    "Being able to import new 'superpowers' like math and numpy and abbreviating them with np.\n",
    "\n",
    "Storing data by making use of {}.\n",
    "\n",
    "Making use of conditional functions such as else, if, and elif.\n",
    "\n",
    "Python will feedback your errors, is precise and will pick up on any mistakes i.e is sensitive\n",
    "\n",
    "Indentations (Spaces) \n",
    "\n",
    "*Using = to define something and == to inquire about the value of something*\n",
    "\n",
    "*Using # to make comments at the side which don't affect the code*\n",
    "\n",
    "*Any word aside from commands like else, if, and elif and be used arbitrarily as variables. They can be differentiated from words with quotation marks such as '' and \"\" which can be used interchangably.*\n",
    "\n",
    "*Is used in both Math and Functions in Python*\n",
    "\n",
    "*We can ask questions like in, not, and, or to ask Python questions*       \n",
    "\n",
    "*Python can also answer math questions using symbols such as < and >*   \n",
    "\n",
    "*Python uses many different ways to store data* \n",
    "\n",
    "*Non-whole numbers, especially irrational numbers are often not stored wholly in a computer due to hardware limitations. In order to circumvent this, we may check if the variable is close to the expected value.* \n",
    "\n",
    "*We may use strings of function to perform bigger tasks which may take more than one function to complete.*\n",
    "\n",
    "*Escape Sequences are typically just used to symbolise functions on the keyboard which usually act as coding conventions in order to overwrite their aforementioned conventions. eg. tabs, quotation marks, or backslashes*\n",
    "\n",
    "*Usage of self-documenting functions to debug*\n",
    "\n",
    "*Python reads left to right.*\n",
    "\n",
    "*Codes can be shortened/simplified.*\n",
    "\n"
   ]
  },
  {
   "cell_type": "code",
   "execution_count": 3,
   "id": "d277a810",
   "metadata": {},
   "outputs": [
    {
     "name": "stdout",
     "output_type": "stream",
     "text": [
      "3 4 5.0\n"
     ]
    }
   ],
   "source": [
    "x, y = 3, 4\n",
    "z = math.sqrt(x**2 + y**2)\n",
    "print(x, y, z)"
   ]
  },
  {
   "cell_type": "markdown",
   "id": "cad2d443",
   "metadata": {},
   "source": [
    "|#|Term|Description|\n",
    "|:-|:-:|----------|\n",
    "|1|Function| It is a command which can be used to perform a task which can be specified using parantheses. eg. print|\n",
    "|2|Arguments|An argument is used with functions to specify what action you'd wish for the specific function to perform|\n",
    "|3|Comments| Comments are used at the side of code which will is intended to provide information for the user. Comments will never be considered by Python as code and will come in the form of text following the # symbol.|\n",
    "|4|Indentations| Indentations are basically spaces. In Python, spaces could cause bugs if placed incorrectly and is otherwise used for readability compared to other types of code.|\n",
    "|5|.| The dot is used to specify ownership. For example, math.sqrt would use the function that falls under math's system and only math's system. ie. it won't use other systems like numpy.\n",
    "|6|:| The colon is often used in conjunction with if, else, and elif functions. In particular, it connects a condition to a command. eg. if x: y\n",
    "|7|[]| This is used to create 1 Dimensional lists of data.\n",
    "|8|[[],[]]| This is used to create 2 Dimensional lists of data.\n",
    "|9|{}| Used to indicate to Python to remember certain information under its dictionary which could help to store data."
   ]
  },
  {
   "cell_type": "markdown",
   "id": "67baa079",
   "metadata": {},
   "source": []
  },
  {
   "cell_type": "code",
   "execution_count": null,
   "id": "fde68e31",
   "metadata": {},
   "outputs": [
    {
     "data": {
      "text/plain": [
       "3.3333333333333335"
      ]
     },
     "execution_count": 41,
     "metadata": {},
     "output_type": "execute_result"
    }
   ],
   "source": [
    "5/2          # Does Regular division"
   ]
  },
  {
   "cell_type": "code",
   "execution_count": 42,
   "id": "7e4ff9ce",
   "metadata": {},
   "outputs": [
    {
     "data": {
      "text/plain": [
       "2"
      ]
     },
     "execution_count": 42,
     "metadata": {},
     "output_type": "execute_result"
    }
   ],
   "source": [
    "5//2       # Does Division and rounds down the decimal to the nearest whole number"
   ]
  },
  {
   "cell_type": "code",
   "execution_count": null,
   "id": "6adb7196",
   "metadata": {},
   "outputs": [
    {
     "data": {
      "text/plain": [
       "0.1999999999999993"
      ]
     },
     "execution_count": 58,
     "metadata": {},
     "output_type": "execute_result"
    }
   ],
   "source": [
    "5%2          # Evaluates the remainder when dividing two numbers"
   ]
  },
  {
   "cell_type": "code",
   "execution_count": null,
   "id": "c3f3cab0",
   "metadata": {},
   "outputs": [],
   "source": []
  }
 ],
 "metadata": {
  "kernelspec": {
   "display_name": "base",
   "language": "python",
   "name": "python3"
  },
  "language_info": {
   "codemirror_mode": {
    "name": "ipython",
    "version": 3
   },
   "file_extension": ".py",
   "mimetype": "text/x-python",
   "name": "python",
   "nbconvert_exporter": "python",
   "pygments_lexer": "ipython3",
   "version": "3.13.5"
  },
  "toc": {
   "base_numbering": 1,
   "nav_menu": {},
   "number_sections": true,
   "sideBar": true,
   "skip_h1_title": false,
   "title_cell": "Table of Contents",
   "title_sidebar": "Contents",
   "toc_cell": false,
   "toc_position": {},
   "toc_section_display": true,
   "toc_window_display": false
  }
 },
 "nbformat": 4,
 "nbformat_minor": 5
}
