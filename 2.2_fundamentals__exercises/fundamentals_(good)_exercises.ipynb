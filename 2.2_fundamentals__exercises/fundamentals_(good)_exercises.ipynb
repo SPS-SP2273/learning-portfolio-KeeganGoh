{
 "cells": [
  {
   "attachments": {},
   "cell_type": "markdown",
   "id": "123456",
   "metadata": {},
   "source": [
    "<div style=\"text-align:left;font-size:2em\"><span style=\"font-weight:bolder;font-size:1.25em\">SP2273 | Learning Portfolio</span><br><br><span style=\"font-weight:bold;color:darkred\">Fundamentals (Good) Exercises</span></div>"
   ]
  },
  {
   "cell_type": "code",
   "execution_count": 13,
   "id": "5dc68019",
   "metadata": {},
   "outputs": [],
   "source": [
    "import numpy as np"
   ]
  },
  {
   "cell_type": "code",
   "execution_count": 8,
   "id": "d3165617",
   "metadata": {},
   "outputs": [
    {
     "name": "stdout",
     "output_type": "stream",
     "text": [
      "How you DOIN john !\n"
     ]
    }
   ],
   "source": [
    "user_input = input('What is your name?')\n",
    "print('How you DOIN', user_input,'!')"
   ]
  },
  {
   "cell_type": "code",
   "execution_count": 10,
   "id": "c6d0fc80",
   "metadata": {},
   "outputs": [
    {
     "name": "stdout",
     "output_type": "stream",
     "text": [
      "My name is john and my age is 10 years old.\n"
     ]
    }
   ],
   "source": [
    "name = input(\"What is your name?\")\n",
    "age = input(\"What is your age?\")\n",
    "\n",
    "print(f\"My name is {name} and my age is {age} years old.\")"
   ]
  },
  {
   "cell_type": "code",
   "execution_count": 3,
   "id": "809e0067",
   "metadata": {},
   "outputs": [],
   "source": [
    "pi = 3.141592653589793"
   ]
  },
  {
   "cell_type": "code",
   "execution_count": 4,
   "id": "18770afa",
   "metadata": {},
   "outputs": [
    {
     "name": "stdout",
     "output_type": "stream",
     "text": [
      "The value of pi to 2 decimal places is 3.14\n"
     ]
    }
   ],
   "source": [
    "print(f'The value of pi to 2 decimal places is {pi:.2F}')"
   ]
  },
  {
   "cell_type": "code",
   "execution_count": 6,
   "id": "56e233ef",
   "metadata": {},
   "outputs": [
    {
     "name": "stdout",
     "output_type": "stream",
     "text": [
      "The value of pi to 3 decimal places is 3.142\n"
     ]
    }
   ],
   "source": [
    "print(f'The value of pi to 3 decimal places is {pi:.3F}')"
   ]
  },
  {
   "cell_type": "code",
   "execution_count": 5,
   "id": "8c5864ec",
   "metadata": {},
   "outputs": [
    {
     "name": "stdout",
     "output_type": "stream",
     "text": [
      "The value of pi to 4 decimal places is 3.1416\n"
     ]
    }
   ],
   "source": [
    "print(f'The value of pi to 4 decimal places is {pi:.4F}')"
   ]
  },
  {
   "cell_type": "code",
   "execution_count": 48,
   "id": "5c7ceb23",
   "metadata": {},
   "outputs": [
    {
     "name": "stdout",
     "output_type": "stream",
     "text": [
      "Apple      $ 0.99  \n",
      "Banana     $ 0.59  \n",
      "Orange     $ 1.29 \n"
     ]
    }
   ],
   "source": [
    "print(f'{'Apple':<10}', '$',f'{'0.99':^5}','\\n'f'{'Banana':<10}', '$',f'{'0.59':^5}','\\n'f'{'Orange':<10}', '$',f'{'1.29':^5}')"
   ]
  },
  {
   "cell_type": "code",
   "execution_count": 16,
   "id": "de409107",
   "metadata": {},
   "outputs": [
    {
     "name": "stdout",
     "output_type": "stream",
     "text": [
      "The Student's Letter Grade is: A\n"
     ]
    }
   ],
   "source": [
    "score=int(input('Enter the student\\'s score'))\n",
    "al = 70 #al stands for Lower limit for A grade.\n",
    "au = 100 \n",
    "bu = 69\n",
    "bl = 50\n",
    "cu = 49\n",
    "cl = 35 #There must be an easier way to do this bruh; use lower caps next time so you dont have to capitalise everyth\n",
    "fu = 34\n",
    "fl = 0\n",
    "\n",
    "if 70 <= score <= 100:\n",
    "        print('The Student\\'s Letter Grade is: A')\n",
    "elif 50 <= score <= 69:\n",
    "        print('The Student\\'s Letter Grade is: B')\n",
    "elif 35 <= score <= 49:\n",
    "        print('The Student\\'s Letter Grade is: C')\n",
    "elif 0 <= score <= 34:\n",
    "        print('The Student has gotten a \\\"Fail\" Grade')\n",
    "else:\n",
    "        print('Please input a valid score between 1-100')\n",
    "\n",
    "    \n"
   ]
  },
  {
   "cell_type": "code",
   "execution_count": 115,
   "id": "756d0b13",
   "metadata": {},
   "outputs": [
    {
     "name": "stdout",
     "output_type": "stream",
     "text": [
      "120\n",
      "Invalid input\n"
     ]
    }
   ],
   "source": [
    "def factorial(n):\n",
    "    if n < 0:\n",
    "        return \"Invalid input\"\n",
    "    elif n == 0 or n == 1:\n",
    "        return 1\n",
    "    else:\n",
    "        result = 1\n",
    "        for number in range(1, n+1):\n",
    "            result *= number\n",
    "        return result\n",
    "    \n",
    "\n",
    "print(factorial(5))   # Testing, expected output: 120\n",
    "print(factorial(-1))  # Testing, expected output: Invalid input\n"
   ]
  }
 ],
 "metadata": {
  "kernelspec": {
   "display_name": "base",
   "language": "python",
   "name": "python3"
  },
  "language_info": {
   "codemirror_mode": {
    "name": "ipython",
    "version": 3
   },
   "file_extension": ".py",
   "mimetype": "text/x-python",
   "name": "python",
   "nbconvert_exporter": "python",
   "pygments_lexer": "ipython3",
   "version": "3.13.5"
  },
  "toc": {
   "base_numbering": 1,
   "nav_menu": {},
   "number_sections": true,
   "sideBar": true,
   "skip_h1_title": false,
   "title_cell": "Table of Contents",
   "title_sidebar": "Contents",
   "toc_cell": false,
   "toc_position": {},
   "toc_section_display": true,
   "toc_window_display": false
  }
 },
 "nbformat": 4,
 "nbformat_minor": 5
}
