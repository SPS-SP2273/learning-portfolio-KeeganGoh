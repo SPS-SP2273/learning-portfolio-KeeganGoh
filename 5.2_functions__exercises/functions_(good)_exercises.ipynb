{
 "cells": [
  {
   "attachments": {},
   "cell_type": "markdown",
   "id": "123456",
   "metadata": {},
   "source": [
    "<div style=\"text-align:left;font-size:2em\"><span style=\"font-weight:bolder;font-size:1.25em\">SP2273 | Learning Portfolio</span><br><br><span style=\"font-weight:bold;color:darkred\">Functions (Good) Exercises</span></div>"
   ]
  },
  {
   "cell_type": "code",
   "execution_count": 4,
   "id": "188306ab",
   "metadata": {},
   "outputs": [
    {
     "name": "stdout",
     "output_type": "stream",
     "text": [
      "50.0\n",
      "315.15\n"
     ]
    }
   ],
   "source": [
    "def convert_celcius(temperature_celcius, target_scale = \"Fahrenheit\"):\n",
    "    if target_scale == \"Kelvin\":\n",
    "        return temperature_celcius+273.15\n",
    "    else:\n",
    "        return temperature_celcius*9/5 + 32\n",
    "    \n",
    "print(convert_celcius(10))\n",
    "print(convert_celcius(42, \"Kelvin\"))"
   ]
  },
  {
   "cell_type": "code",
   "execution_count": 2,
   "id": "0ffb7c3b",
   "metadata": {},
   "outputs": [
    {
     "data": {
      "text/plain": [
       "'93.33'"
      ]
     },
     "execution_count": 2,
     "metadata": {},
     "output_type": "execute_result"
    }
   ],
   "source": [
    "def convert_fahrenheit(temperature_fahrenheit, target_scale = \"Celcius\"):\n",
    "    temperature_fahrenheit = (temperature_fahrenheit - 32)*(5/9) \n",
    "    if target_scale == \"Kelvin\":\n",
    "        temperature_fahrenheit = (temperature_fahrenheit + 273.15)\n",
    "        return f\"{temperature_fahrenheit:.2f}\"\n",
    "    else:\n",
    "        return f\"{temperature_fahrenheit:.2f}\"\n",
    "\n",
    "    \n",
    "convert_fahrenheit(200)\n",
    "    "
   ]
  },
  {
   "cell_type": "code",
   "execution_count": 9,
   "id": "ec870ebe",
   "metadata": {},
   "outputs": [
    {
     "name": "stdout",
     "output_type": "stream",
     "text": [
      "282.78\n",
      "298.15\n",
      "100.0\n",
      "107.6\n"
     ]
    }
   ],
   "source": [
    "def convert_temperature(temperature, source_scale, target_scale=None):\n",
    "    \n",
    "    \n",
    "    if source_scale == \"Fahrenheit\":\n",
    "        return convert_fahrenheit(temperature, target_scale or \"Celcius\")\n",
    "        \n",
    "    elif source_scale == \"Celcius\":\n",
    "        return convert_celcius(temperature, target_scale or \"Fahrenheit\")\n",
    "        \n",
    "    elif source_scale == \"Kelvin\":\n",
    "        temperature -= 273.15\n",
    "        if target_scale == \"Celcius\":\n",
    "            return temperature\n",
    "        elif target_scale == \"Fahrenheit\":\n",
    "            temperature = (temperature - 32)*5/9\n",
    "            return temperature\n",
    "\n",
    "print(convert_temperature(541, \"Fahrenheit\", \"Celcius\"))\n",
    "print(convert_temperature(25, \"Celcius\", \"Kelvin\"))\n",
    "print(convert_temperature(373.15, \"Kelvin\", \"Celcius\"))\n",
    "print(convert_temperature(42, \"Celcius\", \"Fahrenheit\"))\n"
   ]
  }
 ],
 "metadata": {
  "kernelspec": {
   "display_name": "base",
   "language": "python",
   "name": "python3"
  },
  "language_info": {
   "codemirror_mode": {
    "name": "ipython",
    "version": 3
   },
   "file_extension": ".py",
   "mimetype": "text/x-python",
   "name": "python",
   "nbconvert_exporter": "python",
   "pygments_lexer": "ipython3",
   "version": "3.13.5"
  },
  "toc": {
   "base_numbering": 1,
   "nav_menu": {},
   "number_sections": true,
   "sideBar": true,
   "skip_h1_title": false,
   "title_cell": "Table of Contents",
   "title_sidebar": "Contents",
   "toc_cell": false,
   "toc_position": {},
   "toc_section_display": true,
   "toc_window_display": false
  }
 },
 "nbformat": 4,
 "nbformat_minor": 5
}
