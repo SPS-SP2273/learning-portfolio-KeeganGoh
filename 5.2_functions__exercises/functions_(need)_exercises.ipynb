{
 "cells": [
  {
   "attachments": {},
   "cell_type": "markdown",
   "id": "123456",
   "metadata": {},
   "source": [
    "<div style=\"text-align:left;font-size:2em\"><span style=\"font-weight:bolder;font-size:1.25em\">SP2273 | Learning Portfolio</span><br><br><span style=\"font-weight:bold;color:darkred\">Functions (Need) Exercises</span></div>"
   ]
  },
  {
   "cell_type": "code",
   "execution_count": 14,
   "id": "bd178825",
   "metadata": {},
   "outputs": [],
   "source": [
    "def greeting(name):\n",
    "    if name == 'Batman':\n",
    "        return 'Hello Batman! So, nice to meet you!'\n",
    "    return f'Hello {name}!'"
   ]
  },
  {
   "cell_type": "markdown",
   "id": "e94dfc8a",
   "metadata": {},
   "source": [
    "This still works because Python will perform the function line by line. If the conditions are met, it'll follow the following line \"Hello Batman! So, nice to meet you!\". However, if the name is indeed not batman, it'd skip the if completely and move on to the more general \"Hello {name}!\"\n",
    "\n",
    "That is to say, the (lack of) indentation in the second return is important. If it were indented, the code would consider it under the \"if\" and since the \"if\" function is when the name is Batman, it'll just run the Batman greeting message and not reach the second return."
   ]
  },
  {
   "cell_type": "code",
   "execution_count": 12,
   "id": "e799be0d",
   "metadata": {},
   "outputs": [
    {
     "name": "stdout",
     "output_type": "stream",
     "text": [
      "Your BMI is: 22.53\n",
      "Based on your BMI, you are of Normal Weight.\n"
     ]
    }
   ],
   "source": [
    "def calculate_bmi(weight, height):\n",
    "    try:\n",
    "        if weight <= 0:\n",
    "            print(\"I can't calculate with that value! :c Please input a proper weight.\")\n",
    "            return\n",
    "        if height <= 0:\n",
    "            print(\"I can't calculate with that value! :c Please input a proper height.\")\n",
    "            return\n",
    "\n",
    "        bmi = weight / (height ** 2)\n",
    "        print(f\"Your BMI is: {bmi:.2f}\") #.2f rounds the bmi up to 2decimal points\n",
    "\n",
    "\n",
    "        if bmi < 18.5:\n",
    "            print(\"Based on your BMI, you are Underweight.\")\n",
    "        elif 18.5 <= bmi < 25:\n",
    "            print(\"Based on your BMI, you are of Normal Weight.\")\n",
    "        elif 25 <= bmi < 30:\n",
    "            print(\"Based on your BMI, you are Overweight.\")\n",
    "        else:\n",
    "            print(\"Based on your BMI, you are Obese.\")\n",
    "\n",
    "    except ValueError:\n",
    "        print(\"I can't calculate with that value! :c Please input a proper height and weight.\")\n",
    "\n",
    "calculate_bmi(73, 1.80)"
   ]
  },
  {
   "cell_type": "code",
   "execution_count": 20,
   "id": "3bb17945",
   "metadata": {},
   "outputs": [],
   "source": [
    "import math"
   ]
  },
  {
   "cell_type": "code",
   "execution_count": 20,
   "id": "e2aac5c6",
   "metadata": {},
   "outputs": [
    {
     "name": "stdout",
     "output_type": "stream",
     "text": [
      "120\n"
     ]
    }
   ],
   "source": [
    "def factorial (number):\n",
    "    if not number.is_integer():\n",
    "        return 'Factorials are only defined for whole numbers, please enter a whole number.'\n",
    "    if number <0:\n",
    "        return 'You have entered a non-positive integer. Please try again with a positive integer.'\n",
    "    number = int(number)\n",
    "    result = 1\n",
    "    for i in range(1, number+1):\n",
    "        result *= i\n",
    "    return result\n",
    "print(factorial(5))\n"
   ]
  }
 ],
 "metadata": {
  "kernelspec": {
   "display_name": "base",
   "language": "python",
   "name": "python3"
  },
  "language_info": {
   "codemirror_mode": {
    "name": "ipython",
    "version": 3
   },
   "file_extension": ".py",
   "mimetype": "text/x-python",
   "name": "python",
   "nbconvert_exporter": "python",
   "pygments_lexer": "ipython3",
   "version": "3.13.5"
  },
  "toc": {
   "base_numbering": 1,
   "nav_menu": {},
   "number_sections": true,
   "sideBar": true,
   "skip_h1_title": false,
   "title_cell": "Table of Contents",
   "title_sidebar": "Contents",
   "toc_cell": false,
   "toc_position": {},
   "toc_section_display": true,
   "toc_window_display": false
  }
 },
 "nbformat": 4,
 "nbformat_minor": 5
}
