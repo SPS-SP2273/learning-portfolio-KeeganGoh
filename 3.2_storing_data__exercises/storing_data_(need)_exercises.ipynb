{
 "cells": [
  {
   "attachments": {},
   "cell_type": "markdown",
   "id": "123456",
   "metadata": {},
   "source": [
    "<div style=\"text-align:left;font-size:2em\"><span style=\"font-weight:bolder;font-size:1.25em\">SP2273 | Learning Portfolio</span><br><br><span style=\"font-weight:bold;color:darkred\">Storing Data (Need) Exercises</span></div>"
   ]
  },
  {
   "cell_type": "code",
   "execution_count": 5,
   "id": "c0f46d69",
   "metadata": {},
   "outputs": [],
   "source": [
    "import numpy as np"
   ]
  },
  {
   "cell_type": "markdown",
   "id": "17ef7378",
   "metadata": {},
   "source": [
    "1. Lists and Arrays are both used to store many elements and can be used to deal with a large number of said elements at once\n",
    "2. Both are different in the sense that they make use of indexing for their elements  dictionary while the dictionary makes use of value-key pairs."
   ]
  },
  {
   "cell_type": "markdown",
   "id": "7c9f3809",
   "metadata": {},
   "source": [
    "1. Arrays are native to NumPy whereas Lists make use of Python\n",
    "2. Arrays are more picky, they require the same type. Lists are able to store a larger variety of types and stores them as they are."
   ]
  },
  {
   "cell_type": "markdown",
   "id": "ecc133d6",
   "metadata": {},
   "source": [
    "A dictonary is a 2D 'list' where a values are often paired with keys, differentiated by a colon. eg. Best Major:Physics"
   ]
  },
  {
   "cell_type": "code",
   "execution_count": 1,
   "id": "550d68d2",
   "metadata": {},
   "outputs": [
    {
     "name": "stdout",
     "output_type": "stream",
     "text": [
      "a1\n",
      "c3\n",
      "e5\n",
      "g7\n",
      "i9\n"
     ]
    }
   ],
   "source": [
    "py_list = [\"a1\", \"b2\", \"c3\", \"d4\", \"e5\", \"f6\", \"g7\", \"h8\", \"i9\", \"j10\"]\n",
    "print(py_list[0])   # Prints 'a1'\n",
    "print(py_list[2])   # Prints 'c3'\n",
    "print(py_list[4])   # Prints 'e5'\n",
    "print(py_list[6])   # Prints 'g7'\n",
    "print(py_list[8])   # Prints 'i9'"
   ]
  },
  {
   "cell_type": "code",
   "execution_count": 1,
   "id": "1a2b94fa",
   "metadata": {},
   "outputs": [
    {
     "name": "stdout",
     "output_type": "stream",
     "text": [
      "Boron\n",
      "Boron\n"
     ]
    }
   ],
   "source": [
    "py_elements = ['Hydrogen',\n",
    "            'Helium', 'Lithium',\n",
    "            'Beryllium', 'Boron', 'Carbon',\n",
    "            'Nitrogen', 'Oxygen',\n",
    "            'Fluorine',\n",
    "            'Neon']\n",
    "print(py_elements [4])\n",
    "print(py_elements [-6])"
   ]
  },
  {
   "cell_type": "code",
   "execution_count": 4,
   "id": "1db636cc",
   "metadata": {},
   "outputs": [
    {
     "name": "stdout",
     "output_type": "stream",
     "text": [
      "9\n"
     ]
    }
   ],
   "source": [
    "np_numbers=np.array([45, 60, 1, 30, 96, 1, 96, 57, 16, 1,\n",
    "        99, 62, 86, 43, 42, 60, 59, 1, 1, 35,\n",
    "        83, 47, 34, 28, 68, 23, 22, 92, 1, 79,\n",
    "        1, 29, 94, 72, 46, 47, 1, 74, 32, 20,\n",
    "        8, 37, 35, 1, 89, 29, 86, 19, 43, 61])\n",
    "\n",
    "summ=sum(np_numbers == 1)\n",
    "\n",
    "print(summ)"
   ]
  },
  {
   "cell_type": "code",
   "execution_count": 11,
   "id": "98168264",
   "metadata": {},
   "outputs": [
    {
     "name": "stdout",
     "output_type": "stream",
     "text": [
      "38.5\n",
      "302.5\n",
      "32.41990129534635\n",
      "326.0893282522444\n",
      "0.9871796626270702\n",
      "0.9871796626270702\n"
     ]
    }
   ],
   "source": [
    "np_x_1 = np.array([1, 4, 9, 16, 25, 36, 49, 64, 81, 100])\n",
    "np_x_2 = np.array([1, 8, 27, 64, 125, 216, 343, 512, 729, 1000])\n",
    "print (np.mean(np_x_1))\n",
    "print (np.mean(np_x_2))\n",
    "print (np.std((np_x_1)))\n",
    "print (np.std((np_x_2)))\n",
    "\n",
    "mean_x1 = np.mean(np_x_1)\n",
    "mean_x2 = np.mean(np_x_2)\n",
    "std_x1 = np.std(np_x_1)\n",
    "std_x2 = np.std(np_x_2)\n",
    "numerator = np.sum((np_x_1 - mean_x1) * (np_x_2 - mean_x2))\n",
    "r = numerator / (len(np_x_1) * std_x1 * std_x2)\n",
    "print(r)\n",
    "\n",
    "print(np.corrcoef(np_x_1,np_x_2)[1, 0])"
   ]
  },
  {
   "cell_type": "code",
   "execution_count": null,
   "id": "f024587b",
   "metadata": {},
   "outputs": [],
   "source": []
  }
 ],
 "metadata": {
  "kernelspec": {
   "display_name": "base",
   "language": "python",
   "name": "python3"
  },
  "language_info": {
   "codemirror_mode": {
    "name": "ipython",
    "version": 3
   },
   "file_extension": ".py",
   "mimetype": "text/x-python",
   "name": "python",
   "nbconvert_exporter": "python",
   "pygments_lexer": "ipython3",
   "version": "3.13.5"
  },
  "toc": {
   "base_numbering": 1,
   "nav_menu": {},
   "number_sections": true,
   "sideBar": true,
   "skip_h1_title": false,
   "title_cell": "Table of Contents",
   "title_sidebar": "Contents",
   "toc_cell": false,
   "toc_position": {},
   "toc_section_display": true,
   "toc_window_display": false
  }
 },
 "nbformat": 4,
 "nbformat_minor": 5
}
