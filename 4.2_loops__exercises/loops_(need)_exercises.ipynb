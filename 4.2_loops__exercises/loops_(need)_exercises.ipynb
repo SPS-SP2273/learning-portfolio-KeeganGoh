{
 "cells": [
  {
   "attachments": {},
   "cell_type": "markdown",
   "id": "123456",
   "metadata": {},
   "source": [
    "<div style=\"text-align:left;font-size:2em\"><span style=\"font-weight:bolder;font-size:1.25em\">SP2273 | Learning Portfolio</span><br><br><span style=\"font-weight:bold;color:darkred\">Loops (Need) Exercises</span></div>"
   ]
  },
  {
   "cell_type": "code",
   "execution_count": 5,
   "id": "acf26b84",
   "metadata": {},
   "outputs": [
    {
     "name": "stdout",
     "output_type": "stream",
     "text": [
      "0 Degrees Celcius, 32.0 Degrees Fahrenheit\n",
      "5 Degrees Celcius, 41.0 Degrees Fahrenheit\n",
      "10 Degrees Celcius, 50.0 Degrees Fahrenheit\n",
      "15 Degrees Celcius, 59.0 Degrees Fahrenheit\n",
      "20 Degrees Celcius, 68.0 Degrees Fahrenheit\n",
      "25 Degrees Celcius, 77.0 Degrees Fahrenheit\n",
      "30 Degrees Celcius, 86.0 Degrees Fahrenheit\n",
      "35 Degrees Celcius, 95.0 Degrees Fahrenheit\n",
      "40 Degrees Celcius, 104.0 Degrees Fahrenheit\n",
      "45 Degrees Celcius, 113.0 Degrees Fahrenheit\n",
      "50 Degrees Celcius, 122.0 Degrees Fahrenheit\n"
     ]
    }
   ],
   "source": [
    "temperatures_celsius = [\n",
    "    0, 5, 10, 15, 20, 25,\n",
    "    30, 35, 40, 45, 50]\n",
    "temperatures_fahrenheit = [(c*1.8)+32 for c in temperatures_celsius]\n",
    "\n",
    "for c, f in zip(temperatures_celsius, temperatures_fahrenheit):\n",
    "    print(f\"{c} Degrees Celcius, {f} Degrees Fahrenheit\")"
   ]
  },
  {
   "cell_type": "code",
   "execution_count": 4,
   "id": "6b83bcc7",
   "metadata": {},
   "outputs": [
    {
     "name": "stdout",
     "output_type": "stream",
     "text": [
      "A1\tA2\tA3\t\n",
      "\n",
      "B1\tB2\tB3\t\n",
      "\n",
      "C1\tC2\tC3\t\n",
      "\n"
     ]
    }
   ],
   "source": [
    "for letter in ['A', 'B', 'C']:\n",
    "    for number in [1, 2, 3]:\n",
    "        print(f'{letter}{number}', end='\\t')\n",
    "    print('\\n')"
   ]
  },
  {
   "cell_type": "code",
   "execution_count": 15,
   "id": "3deb4b44",
   "metadata": {},
   "outputs": [
    {
     "name": "stdout",
     "output_type": "stream",
     "text": [
      "1:1\t2\t3\t4\t5\t\n",
      "2:2\t4\t6\t8\t10\t\n",
      "3:3\t6\t9\t12\t15\t\n",
      "4:4\t8\t12\t16\t20\t\n",
      "5:5\t10\t15\t20\t25\t\n"
     ]
    }
   ],
   "source": [
    "for row in range(1,6):\n",
    "    print (f\"{row}:\", end='') #prints 1:, 2:,3: in a straight row\n",
    "    for col in range(1,6):\n",
    "        print (row*col, end='\\t') #now multiplies the columns by the rows and vise-versa\n",
    "    print() #used to create a tab spacing between each line, otherwise it'd all be in one horizontal row"
   ]
  },
  {
   "cell_type": "code",
   "execution_count": 17,
   "id": "d528a40d",
   "metadata": {},
   "outputs": [],
   "source": [
    "import numpy as np"
   ]
  },
  {
   "cell_type": "code",
   "execution_count": 22,
   "id": "810448b9",
   "metadata": {},
   "outputs": [
    {
     "data": {
      "text/plain": [
       "array([0.43055225, 0.46995482, 0.25481838, 0.7286525 , 0.68457774,\n",
       "       0.91479457, 0.7653096 , 0.3107447 , 0.48237101, 0.82102922])"
      ]
     },
     "execution_count": 22,
     "metadata": {},
     "output_type": "execute_result"
    }
   ],
   "source": [
    "np.random.rand(10)"
   ]
  },
  {
   "cell_type": "code",
   "execution_count": 21,
   "id": "97ab0699",
   "metadata": {},
   "outputs": [
    {
     "name": "stdout",
     "output_type": "stream",
     "text": [
      "Experiment  1: No. of Heads = 4\n",
      "Experiment  2: No. of Heads = 6\n",
      "Experiment  3: No. of Heads = 3\n",
      "Experiment  4: No. of Heads = 4\n",
      "Experiment  5: No. of Heads = 6\n",
      "Experiment  6: No. of Heads = 6\n",
      "Experiment  7: No. of Heads = 9\n",
      "Experiment  8: No. of Heads = 5\n",
      "Experiment  9: No. of Heads = 5\n",
      "Experiment 10: No. of Heads = 4\n"
     ]
    }
   ],
   "source": [
    "for i in range(1, 11):  \n",
    "    flips = np.random.rand(10)  \n",
    "    heads = 0 # this sets the number of heads to zero to be varied later depending on the flips\n",
    "    for flip in flips:\n",
    "        if flip > 0.5:   \n",
    "            heads += 1 # changes the number of heads that the rng generates \n",
    "    print(f\"Experiment {i:2}: No. of Heads = {heads}\")"
   ]
  }
 ],
 "metadata": {
  "kernelspec": {
   "display_name": "base",
   "language": "python",
   "name": "python3"
  },
  "language_info": {
   "codemirror_mode": {
    "name": "ipython",
    "version": 3
   },
   "file_extension": ".py",
   "mimetype": "text/x-python",
   "name": "python",
   "nbconvert_exporter": "python",
   "pygments_lexer": "ipython3",
   "version": "3.13.5"
  },
  "toc": {
   "base_numbering": 1,
   "nav_menu": {},
   "number_sections": true,
   "sideBar": true,
   "skip_h1_title": false,
   "title_cell": "Table of Contents",
   "title_sidebar": "Contents",
   "toc_cell": false,
   "toc_position": {},
   "toc_section_display": true,
   "toc_window_display": false
  }
 },
 "nbformat": 4,
 "nbformat_minor": 5
}
